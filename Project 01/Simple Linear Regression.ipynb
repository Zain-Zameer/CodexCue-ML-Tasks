{
 "cells": [
  {
   "cell_type": "code",
   "execution_count": null,
   "id": "446fb2a3-bc38-41ac-888a-5d139cb04042",
   "metadata": {},
   "outputs": [],
   "source": [
    "# Importing libraries that we are going to use in this project\n",
    "import pandas as pd\n",
    "import numpy as np\n",
    "import matplotlib.pyplot as plt\n",
    "from sklearn import linear_model"
   ]
  },
  {
   "cell_type": "code",
   "execution_count": null,
   "id": "0d1d40cd-14bf-4cf5-bb80-c14bbf066b13",
   "metadata": {},
   "outputs": [],
   "source": [
    "# Reading csv file using pandas library\n",
    "df = pd.read_csv(\"tips.csv\")\n",
    "# view only top 3 rows of dataframe\n",
    "df.head(3)"
   ]
  },
  {
   "cell_type": "markdown",
   "id": "7cf408f9-33f5-4d19-bc24-84680232ffba",
   "metadata": {},
   "source": [
    "# Extracting columns of our dataframe\n",
    "df.columns"
   ]
  },
  {
   "cell_type": "markdown",
   "id": "9713ae99-0d9b-42a9-88bc-aa30ce6bfe60",
   "metadata": {},
   "source": [
    "# Extracting info of every column to check if there is any mistake in data types of each column\n",
    "df.info()"
   ]
  },
  {
   "cell_type": "markdown",
   "id": "2f579eea-e5fb-4190-a83f-d81962529952",
   "metadata": {},
   "source": [
    "# Extracting the sum of null values from each column\n",
    "df.isnull().sum()"
   ]
  },
  {
   "cell_type": "markdown",
   "id": "674440c1-427e-46e4-9453-aad3277aac26",
   "metadata": {},
   "source": [
    "# extracting the summary of our dataset like total count, mean and min etc.\n",
    "df.describe()"
   ]
  },
  {
   "cell_type": "markdown",
   "id": "4b5cc95e-9a37-41fd-8111-8c011c6845da",
   "metadata": {},
   "source": [
    "# Extracting counts of each day \n",
    "day_unique = df[\"day\"].value_counts()\n",
    "day_unique\n",
    "# Extracting counts of each time \n",
    "time_unique = df['time'].value_counts()\n",
    "time_unique"
   ]
  },
  {
   "cell_type": "markdown",
   "id": "21afe4d8-227e-47f5-9af5-2303f04945fc",
   "metadata": {},
   "source": [
    "# extracting all the days uniquely to see how many days are in our dataframe/dataset\n",
    "day_unique = df[\"day\"].unique()\n",
    "day_unique\n",
    "# extracting all the times uniquely to see what times are in our dataframe/dataset\n",
    "time_unique = df['time'].unique()\n",
    "time_unique"
   ]
  },
  {
   "cell_type": "markdown",
   "id": "6d0908fb-17e6-4956-aa03-67d555e47bdf",
   "metadata": {},
   "source": [
    "# Count the number of unique values in each column\n",
    "df.nunique()"
   ]
  },
  {
   "cell_type": "markdown",
   "id": "f54a4f1b-e2ad-4b41-8517-628f4f66689e",
   "metadata": {},
   "source": [
    "# Printing the unique values for each column\n",
    "for i in df.columns:\n",
    "    print(df[i].unique())"
   ]
  },
  {
   "cell_type": "markdown",
   "id": "f517f333-68d5-4bfa-8b0a-1998e43855a3",
   "metadata": {},
   "source": [
    "# Remove rows with any null (NaN) values from the DataFrame\n",
    "update_df = df.dropna()\n",
    "update_df"
   ]
  },
  {
   "cell_type": "markdown",
   "id": "e615bb9f-b18d-4b94-8499-1d10ac3e4c72",
   "metadata": {},
   "source": [
    "# removed all rows with any null values from the original DataFrame df and updated it in place.\n",
    "df.dropna(inplace=True)\n",
    "# View only top 4 rows from dataset\n",
    "df.head(4)"
   ]
  },
  {
   "cell_type": "markdown",
   "id": "067074a7-e0c8-4287-8670-360e8999fb63",
   "metadata": {},
   "source": [
    "# counting the occurrences of each unique value in the 'day' column, converting the result into a DataFrame, and then resetting the index to turn the counts into a standard column\n",
    "value_counts = pd.DataFrame(df['day'].value_counts())\n",
    "value_counts.reset_index(inplace=True)\n",
    "value_counts"
   ]
  },
  {
   "cell_type": "markdown",
   "id": "026f222f-4c66-41c6-8a32-c2c03141bb9f",
   "metadata": {},
   "source": [
    "# renaming column names to represent the index,day and count\n",
    "value_counts.rename_axis(columns={'':'index','day':'day','count':'count'},inplace=True)\n",
    "value_counts"
   ]
  },
  {
   "cell_type": "markdown",
   "id": "499beb54-6c95-4215-b3be-3536055dc72b",
   "metadata": {},
   "source": [
    "value_counts.reset_index(inplace=True)"
   ]
  },
  {
   "cell_type": "markdown",
   "id": "9672b466-2fb0-4fb1-aaf5-82dae9392a21",
   "metadata": {},
   "source": [
    "value_counts"
   ]
  },
  {
   "cell_type": "markdown",
   "id": "253359b2-f8e6-44fd-9240-dfd71dee198e",
   "metadata": {},
   "source": [
    "# plotting a bar chart between day and its count to showcase which day has more counts\n",
    "plt.bar(value_counts['day'],value_counts['count'])"
   ]
  },
  {
   "cell_type": "markdown",
   "id": "81eab529-b234-4477-98ec-971a595095cb",
   "metadata": {},
   "source": [
    "# plotting a pie chart of count and day \n",
    "plt.pie(value_counts['count'],labels=value_counts['day'],autopct='%1.2f',explode=[0.2,0,0,0])"
   ]
  },
  {
   "cell_type": "markdown",
   "id": "06847bb9-e662-4ee2-ad55-caad67675eff",
   "metadata": {},
   "source": [
    "import seaborn as sns\n",
    "# creating a distplot of total bill\n",
    "sns.distplot(df['total_bill'])"
   ]
  },
  {
   "cell_type": "markdown",
   "id": "9967fccc-752a-4837-9f7e-b069bf33ceee",
   "metadata": {},
   "source": [
    "# total_bill\n",
    "total_bills = pd.DataFrame(df['total_bill'])\n",
    "total_bills.reset_index(inplace=True)\n",
    "plt.bar(total_bills['total_bill'].index,total_bills['total_bill'].values)"
   ]
  },
  {
   "cell_type": "markdown",
   "id": "9e2acfe9-ab30-4a1e-90b8-942395c4abbf",
   "metadata": {},
   "source": [
    "df['total_bill'].plot(kind='hist')"
   ]
  },
  {
   "cell_type": "markdown",
   "id": "c25258a4-25d9-455e-8306-0fbc3656d330",
   "metadata": {},
   "source": [
    "# Tip\n",
    "df['tip'].plot(kind='hist')"
   ]
  },
  {
   "cell_type": "markdown",
   "id": "04d60a15-8e29-443d-8809-fa3cb91c0279",
   "metadata": {},
   "source": [
    "# Sex\n",
    "df['sex'].value_counts().plot(kind='bar')"
   ]
  },
  {
   "cell_type": "markdown",
   "id": "c8480914-924b-43c1-80f5-0194e3f0cbdb",
   "metadata": {},
   "source": [
    "sns.countplot(df['sex'])"
   ]
  },
  {
   "cell_type": "markdown",
   "id": "db1a015a-a955-4ee0-8c67-823be784047c",
   "metadata": {},
   "source": [
    "df['smoker'].value_counts().plot(kind='bar',rot=0)"
   ]
  },
  {
   "cell_type": "markdown",
   "id": "550d85a7-47c4-4e35-81a8-e42bf7455ab3",
   "metadata": {},
   "source": [
    "# Time\n",
    "df['time'].value_counts().plot(kind='bar')"
   ]
  },
  {
   "cell_type": "markdown",
   "id": "ac9e1f3c-7aa7-4065-8369-8b8058a1f5ab",
   "metadata": {},
   "source": [
    "# Size\n",
    "df['size'].value_counts().plot(kind='bar')"
   ]
  },
  {
   "cell_type": "markdown",
   "id": "a4288a1b-f9b7-47fc-a131-961545c02c04",
   "metadata": {},
   "source": [
    "# Scatter plot on total_bill - Tip\n",
    "plt.scatter(df['total_bill'],df['tip'])\n",
    "plt.xlabel('Total bill',fontsize=15)\n",
    "plt.ylabel('Tips',fontsize=15)"
   ]
  },
  {
   "cell_type": "markdown",
   "id": "7988e4d6-f95e-4a43-8790-74f627c824ce",
   "metadata": {},
   "source": [
    "df.groupby('sex')['total_bill'].mean().plot(kind='bar')"
   ]
  },
  {
   "cell_type": "markdown",
   "id": "96957aaf-e72a-41fb-869f-1d4bfe4850fe",
   "metadata": {},
   "source": [
    "df.groupby('smoker')['total_bill'].mean().plot(kind='bar')"
   ]
  },
  {
   "cell_type": "markdown",
   "id": "114a21fd-f58c-4806-b556-6a99a1202fef",
   "metadata": {},
   "source": [
    "df.groupby('day')['total_bill'].mean().plot(kind='bar')"
   ]
  },
  {
   "cell_type": "markdown",
   "id": "ead85f3a-c529-4fb7-b4f3-4a1240650a6e",
   "metadata": {},
   "source": [
    "df.groupby('time')['total_bill'].mean().plot(kind='bar')"
   ]
  },
  {
   "cell_type": "markdown",
   "id": "051795a0-5c52-4a1b-b06f-c5cf2507ccb6",
   "metadata": {},
   "source": [
    "# count plot between day and time\n",
    "sns.countplot(data=df,x='day',hue='time')"
   ]
  },
  {
   "cell_type": "markdown",
   "id": "f67b5df4-6b61-4628-929f-a65c5117dd12",
   "metadata": {},
   "source": [
    "# SCATTER PLOT OF TOTAL_BILL,TIP AND SEX\n",
    "sns.scatterplot(data=df,x='total_bill',y='tip',size='size',hue='sex')"
   ]
  },
  {
   "cell_type": "markdown",
   "id": "bdaf6a27-752f-45aa-8ed2-166d2d23d021",
   "metadata": {},
   "source": [
    "# SCATTER PLOT OF TOTAL_BILL,TIP AND SMOKER\n",
    "sns.scatterplot(data=df,x='total_bill',y='tip',size='size',hue='smoker')"
   ]
  },
  {
   "cell_type": "markdown",
   "id": "38301997-3401-405d-b8b2-6a3816bdbd5a",
   "metadata": {},
   "source": [
    "# SCATTER PLOT OF TOTAL_BILL,TIP AND DAY\n",
    "sns.scatterplot(data=df,x='total_bill',y='tip',size='size',hue='day')"
   ]
  },
  {
   "cell_type": "markdown",
   "id": "705631ec-8fae-459e-ab11-b79c580dd5ed",
   "metadata": {},
   "source": [
    "# SCATTER PLOT OF TOTAL_BILL,TIP AND TIME\n",
    "sns.scatterplot(data=df,x='total_bill',y='tip',size='size',hue='time')"
   ]
  },
  {
   "cell_type": "markdown",
   "id": "18fba943-f3e1-461b-b83b-7b9f74ac26a2",
   "metadata": {},
   "source": [
    "# calculating corelation to generate heatmap\n",
    "corr_matrix = df[['total_bill','tip','size']].corr()\n",
    "corr_matrix"
   ]
  },
  {
   "cell_type": "markdown",
   "id": "29f6dd4a-0553-4b32-8338-34afe36e9b25",
   "metadata": {},
   "source": [
    "sns.heatmap(corr_matrix,annot=True)"
   ]
  },
  {
   "cell_type": "markdown",
   "id": "5d4f15f9-9998-4ba8-9faa-418d63bcaaee",
   "metadata": {},
   "source": [
    "x=df['total_bill']\n",
    "y=df['tip']"
   ]
  },
  {
   "cell_type": "markdown",
   "id": "59103f65-e78d-4326-aa6e-fcb61340e4a8",
   "metadata": {},
   "source": [
    "df['total_bill'].value_counts(normalize=True)\n",
    "df['tip'].value_counts(normalize=True)"
   ]
  },
  {
   "cell_type": "markdown",
   "id": "5ffca068-c71b-4025-9ff9-3247c09c4afb",
   "metadata": {},
   "source": [
    "df.head()"
   ]
  },
  {
   "cell_type": "markdown",
   "id": "238b0719-af14-4819-a0e4-f9a34cba8a13",
   "metadata": {},
   "source": [
    "sns.scatterplot(data=df,x='total_bill',y='tip')\n",
    "plt.title(\"Total Bill vs Tip\")\n",
    "plt.xlabel(\"Total Bill\")\n",
    "plt.ylabel(\"Tips\")"
   ]
  },
  {
   "cell_type": "markdown",
   "id": "2724e281-f966-4f21-9faa-ee64bcb35d4a",
   "metadata": {},
   "source": [
    "from sklearn.model_selection import train_test_split\n",
    "\n",
    "# spliting the dataset into training and tests set\n",
    "X_train,X_test,Y_train,Y_test = train_test_split(x,y,test_size=0.2,random_state=42)"
   ]
  },
  {
   "cell_type": "markdown",
   "id": "d9202114-12ae-44a5-9d83-8f70bd83e05e",
   "metadata": {},
   "source": [
    "if isinstance(X_test, pd.Series):\n",
    "    X_test = X_test.to_numpy().reshape(-1, 1)\n",
    "elif isinstance(X_test, np.ndarray):\n",
    "    X_test = X_test.reshape(-1, 1)\n",
    "else:\n",
    "    raise TypeError(\"X_test must be a pandas Series or a numpy array\")"
   ]
  },
  {
   "cell_type": "markdown",
   "id": "cf8520cf-cd81-4ec7-93e5-e40ff4edeefb",
   "metadata": {},
   "source": [
    "from sklearn.linear_model import LinearRegression\n",
    "model = LinearRegression()\n",
    "model.fit(X_train, Y_train)"
   ]
  },
  {
   "cell_type": "markdown",
   "id": "f3a69a76-7ed2-4938-a43a-4b7636ebfc51",
   "metadata": {},
   "source": [
    "y_pred=model.predict(X_test)"
   ]
  },
  {
   "cell_type": "markdown",
   "id": "78ad7c53-52cf-4261-aec9-9c488cc2620a",
   "metadata": {},
   "source": [
    "from sklearn.metrics import mean_absolute_error,mean_squared_error,r2_score\n",
    "mae=mean_absolute_error(Y_test,y_pred)\n",
    "mse = mean_squared_error(Y_test,y_pred)\n",
    "r2 = r2_score(Y_test,y_pred)\n",
    "print(\"MAE: \",mae)\n",
    "print(\"MSE: \",mse)\n",
    "print(\"R2: \",r2)"
   ]
  },
  {
   "cell_type": "markdown",
   "id": "4dd0445a-41b7-4f81-9003-8caeb5f9ef1b",
   "metadata": {},
   "source": [
    "plt.scatter(Y_test,y_pred)\n",
    "plt.plot(Y_test,Y_test,color='r',label='Perfect Fit')\n",
    "plt.xlabel(\"Actual Values\")\n",
    "plt.ylabel(\"Predicted Values\")\n",
    "plt.title(\"Mean Squared Error: \"+str(mse))\n",
    "plt.legend()"
   ]
  },
  {
   "cell_type": "markdown",
   "id": "12f4215a-a36e-415e-8f0e-72f250e915fc",
   "metadata": {},
   "source": [
    "sns.scatterplot(data=df,x='total_bill',y='tip',color='black')\n",
    "plt.plot(X_test,y_pred,color='red',linewidth=2)\n",
    "plt.title(\"Regression on test data\")\n",
    "plt.xlabel(\"Total_Bill\")\n",
    "plt.ylabel(\"Tips\")"
   ]
  }
 ],
 "metadata": {
  "kernelspec": {
   "display_name": "Python 3 (ipykernel)",
   "language": "python",
   "name": "python3"
  },
  "language_info": {
   "codemirror_mode": {
    "name": "ipython",
    "version": 3
   },
   "file_extension": ".py",
   "mimetype": "text/x-python",
   "name": "python",
   "nbconvert_exporter": "python",
   "pygments_lexer": "ipython3",
   "version": "3.12.4"
  }
 },
 "nbformat": 4,
 "nbformat_minor": 5
}
